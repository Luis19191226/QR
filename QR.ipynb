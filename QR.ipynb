{
 "cells": [
  {
   "cell_type": "code",
   "execution_count": 5,
   "id": "cfc628f3",
   "metadata": {},
   "outputs": [
    {
     "name": "stdout",
     "output_type": "stream",
     "text": [
      "Hello my name is John\n"
     ]
    }
   ],
   "source": [
    "class Person:\n",
    "  def __init__(self, name, age):\n",
    "    self.name = name\n",
    "    self.age = age\n",
    "\n",
    "  def myfunc(self):\n",
    "    print(\"Hello my name is \" + self.name)\n",
    "\n",
    "p1 = Person(\"John\", 36)\n",
    "p1.myfunc()"
   ]
  },
  {
   "cell_type": "code",
   "execution_count": 6,
   "id": "047b6c85",
   "metadata": {},
   "outputs": [],
   "source": [
    "class LabEquipment:\n",
    "    def __init__(self, inventary, brand, name, model, serial, manual):\n",
    "        self.inventary = inventary \n",
    "        self.brand = brand\n",
    "        self.name = name\n",
    "        self.model = model\n",
    "        self.serial = serial\n",
    "        self.manual = manual\n",
    "        \n",
    "    def marca(self):\n",
    "        print(\"la marca del equipo es: \" + self.name)"
   ]
  },
  {
   "cell_type": "code",
   "execution_count": 7,
   "id": "6ada6afd",
   "metadata": {},
   "outputs": [],
   "source": [
    "owl_1 = LabEquipment(\"987654321\", \"Thermo Scientific\", \"Owl Separation System\", \"A1\", \"360047\", \"https://res.cloudinary.com/iwh/image/upload/q_auto,g_center/assets/1/26/ThermoOwl_A1-Manual.pdf\")"
   ]
  },
  {
   "cell_type": "code",
   "execution_count": 9,
   "id": "24b1b5de",
   "metadata": {},
   "outputs": [
    {
     "name": "stdout",
     "output_type": "stream",
     "text": [
      "Thermo Scientific\n",
      "Owl Separation System\n",
      "A1\n",
      "360047\n",
      "https://res.cloudinary.com/iwh/image/upload/q_auto,g_center/assets/1/26/ThermoOwl_A1-Manual.pdf\n"
     ]
    }
   ],
   "source": [
    "print(owl_1.brand)\n",
    "print(owl_1.name)\n",
    "print(owl_1.model)\n",
    "print(owl_1.serial)\n",
    "print(owl_1.manual)"
   ]
  },
  {
   "cell_type": "code",
   "execution_count": 11,
   "id": "55ad7f02",
   "metadata": {},
   "outputs": [
    {
     "name": "stdout",
     "output_type": "stream",
     "text": [
      "la marca del equipo es: Owl Separation System\n"
     ]
    }
   ],
   "source": [
    "owl_1.marca()"
   ]
  },
  {
   "cell_type": "code",
   "execution_count": 13,
   "id": "477aa821",
   "metadata": {},
   "outputs": [],
   "source": [
    "owl_1.brand = \"Thermo Sci\""
   ]
  },
  {
   "cell_type": "code",
   "execution_count": 18,
   "id": "4f0fcb8a",
   "metadata": {},
   "outputs": [
    {
     "name": "stdout",
     "output_type": "stream",
     "text": [
      "Thermo Sci\n",
      "Owl Separation System\n",
      "A1\n",
      "360047\n"
     ]
    }
   ],
   "source": [
    "print(owl_1.brand)\n",
    "print(owl_1.name)\n",
    "print(owl_1.model)\n",
    "print(owl_1.serial)"
   ]
  },
  {
   "cell_type": "code",
   "execution_count": 30,
   "id": "5d3bc7e9",
   "metadata": {},
   "outputs": [
    {
     "name": "stdout",
     "output_type": "stream",
     "text": [
      "Owl Separation System\n",
      "A1\n",
      "360047\n"
     ]
    }
   ],
   "source": [
    "del owl_1.brand\n",
    "#print(owl_1.brand) # if activates causes(Attribute: 'LabEquipment' object has no attribute 'brand')\n",
    "print(owl_1.name)\n",
    "print(owl_1.model)\n",
    "print(owl_1.serial)"
   ]
  },
  {
   "cell_type": "code",
   "execution_count": 25,
   "id": "a79abde2",
   "metadata": {},
   "outputs": [
    {
     "name": "stdout",
     "output_type": "stream",
     "text": [
      "cubic\n"
     ]
    }
   ],
   "source": [
    "class Owl(LabEquipment):\n",
    "    def __init__(self, inventary, brand, name, model, serial, manual, rotor):\n",
    "        LabEquipment.__init__(self, inventary, brand, name, model, serial, manual)\n",
    "        self.rotor = rotor\n",
    "        \n",
    "owl_2 = Owl(\"987654321\", \"Thermo Scientific\", \"Owl Separation System\", \"A1\", \"360047\", \"https://res.cloudinary.com/iwh/image/upload/q_auto,g_center/assets/1/26/ThermoOwl_A1-Manual.pdf\", \"cubic\")\n",
    "print(owl_2.rotor)"
   ]
  },
  {
   "cell_type": "code",
   "execution_count": 26,
   "id": "ebf41b0d",
   "metadata": {},
   "outputs": [
    {
     "name": "stdout",
     "output_type": "stream",
     "text": [
      "{'inventary': '987654321', 'brand': 'Thermo Scientific', 'name': 'Owl Separation System', 'model': 'A1', 'serial': '360047', 'manual': 'https://res.cloudinary.com/iwh/image/upload/q_auto,g_center/assets/1/26/ThermoOwl_A1-Manual.pdf', 'rotor': 'cubic'}\n"
     ]
    }
   ],
   "source": [
    "qr_info = vars(owl_2)\n",
    "print(qr_info)"
   ]
  },
  {
   "cell_type": "code",
   "execution_count": 27,
   "id": "6abbc955",
   "metadata": {},
   "outputs": [
    {
     "data": {
      "text/plain": [
       "'987654321'"
      ]
     },
     "execution_count": 27,
     "metadata": {},
     "output_type": "execute_result"
    }
   ],
   "source": [
    "qr_info.get(\"inventary\")"
   ]
  },
  {
   "cell_type": "code",
   "execution_count": 33,
   "id": "c16b5290",
   "metadata": {},
   "outputs": [
    {
     "name": "stdout",
     "output_type": "stream",
     "text": [
      "Collecting qrcode\n",
      "  Downloading qrcode-7.4.2-py3-none-any.whl (46 kB)\n",
      "     -------------------------------------- 46.2/46.2 kB 209.1 kB/s eta 0:00:00\n",
      "Collecting pypng\n",
      "  Downloading pypng-0.20220715.0-py3-none-any.whl (58 kB)\n",
      "     -------------------------------------- 58.1/58.1 kB 278.0 kB/s eta 0:00:00\n",
      "Requirement already satisfied: typing-extensions in c:\\users\\samsung\\anaconda3\\lib\\site-packages (from qrcode) (4.3.0)\n",
      "Requirement already satisfied: colorama in c:\\users\\samsung\\anaconda3\\lib\\site-packages (from qrcode) (0.4.5)\n",
      "Installing collected packages: pypng, qrcode\n",
      "Successfully installed pypng-0.20220715.0 qrcode-7.4.2\n"
     ]
    }
   ],
   "source": [
    "!pip install qrcode"
   ]
  },
  {
   "cell_type": "code",
   "execution_count": 34,
   "id": "6d9ae5fe",
   "metadata": {},
   "outputs": [],
   "source": [
    "import qrcode\n",
    "img = qrcode.make(qr_info)\n",
    "type(img)\n",
    "img.save(qr_info.get(\"inventary\")+\".png\")"
   ]
  },
  {
   "cell_type": "code",
   "execution_count": 35,
   "id": "b28b2f31",
   "metadata": {},
   "outputs": [
    {
     "data": {
      "image/png": "[encoded data removed]",
      "text/plain": [
       "<IPython.core.display.Image object>"
      ]
     },
     "execution_count": 35,
     "metadata": {},
     "output_type": "execute_result"
    }
   ],
   "source": [
    "from IPython.display import Image\n",
    "Image(filename=qr_info.get(\"inventary\")+\".png\")"
   ]
  }
 ],
 "metadata": {
  "kernelspec": {
   "display_name": "Python 3 (ipykernel)",
   "language": "python",
   "name": "python3"
  },
  "language_info": {
   "codemirror_mode": {
    "name": "ipython",
    "version": 3
   },
   "file_extension": ".py",
   "mimetype": "text/x-python",
   "name": "python",
   "nbconvert_exporter": "python",
   "pygments_lexer": "ipython3",
   "version": "3.9.13"
  }
 },
 "nbformat": 4,
 "nbformat_minor": 5
}
